{
 "cells": [
  {
   "cell_type": "code",
   "execution_count": 3,
   "metadata": {},
   "outputs": [],
   "source": [
    "import pandas as pd\n",
    "import numpy as np\n",
    "import matplotlib.pyplot as plt\n",
    "import glob\n",
    "from collections import defaultdict"
   ]
  },
  {
   "cell_type": "code",
   "execution_count": 4,
   "metadata": {},
   "outputs": [],
   "source": [
    "files = glob.glob('../Output/RF/*.csv')\n",
    "files.sort()\n",
    "files.append(files.pop(files.index('../Output/RF/Clustering_fit_time.csv')))"
   ]
  },
  {
   "cell_type": "code",
   "execution_count": 5,
   "metadata": {},
   "outputs": [
    {
     "data": {
      "text/plain": [
       "{0: '../Output/RF/BreastC Silhouette.csv',\n",
       " 1: '../Output/RF/BreastC acc.csv',\n",
       " 2: '../Output/RF/BreastC adjMI.csv',\n",
       " 3: '../Output/RF/BreastC2D.csv',\n",
       " 4: '../Output/RF/CreditCardF Silhouette.csv',\n",
       " 5: '../Output/RF/CreditCardF acc.csv',\n",
       " 6: '../Output/RF/CreditCardF adjMI.csv',\n",
       " 7: '../Output/RF/CreditCardF2D.csv',\n",
       " 8: '../Output/RF/SSE.csv',\n",
       " 9: '../Output/RF/logliklihood.csv',\n",
       " 10: '../Output/RF/Clustering_fit_time.csv'}"
      ]
     },
     "execution_count": 5,
     "metadata": {},
     "output_type": "execute_result"
    }
   ],
   "source": [
    "files = dict(enumerate(files))\n",
    "files\n",
    "#len(files)"
   ]
  },
  {
   "cell_type": "code",
   "execution_count": 6,
   "metadata": {},
   "outputs": [],
   "source": [
    "dfs = defaultdict(int)\n",
    "for indx, f in files.items():\n",
    "    dfs[indx] = pd.read_csv(f)"
   ]
  },
  {
   "cell_type": "markdown",
   "metadata": {},
   "source": [
    "## Part 1: Clustering Analyses"
   ]
  },
  {
   "cell_type": "markdown",
   "metadata": {},
   "source": [
    "K-means SSE - Both datasets:  **dfs[8]**\n",
    "\n",
    "GMM Loglikelihood - Both datasets:  **dfs[9]**\n",
    "\n",
    "Silhouette - BreastC:  **dfs[0]** \n",
    "\n",
    "acc - BreastC:  **dfs[1]**\n",
    "\n",
    "adjMI - BreastC:  **dfs[2]**\n",
    "\n",
    "Visualize dataset in 2D - Breast C:  **dfs[3]**\n",
    "\n",
    "Silhouette - Faults:  **dfs[4]** \n",
    "\n",
    "acc - Faults:  **dfs[5]**\n",
    "\n",
    "adjMI - Faults:  **dfs[6]**\n",
    "\n",
    "Visualize dataset in 2D - Faults:  **dfs[7]**"
   ]
  },
  {
   "cell_type": "code",
   "execution_count": 7,
   "metadata": {},
   "outputs": [],
   "source": [
    "km_SSE = dfs[8]\n",
    "gmm_log = dfs[9]\n",
    "bc_ss = dfs[0].T[1:]\n",
    "bc_ari = dfs[1].T[1:]\n",
    "bc_NMI = dfs[2].T[1:]\n",
    "bc_2d = dfs[3]\n",
    "\n",
    "ccf_ss = dfs[4].T[1:]\n",
    "ccf_ari = dfs[5].T[1:]\n",
    "ccf_NMI = dfs[6].T[1:]\n",
    "ccf_2d = dfs[7]"
   ]
  },
  {
   "cell_type": "code",
   "execution_count": 8,
   "metadata": {},
   "outputs": [
    {
     "name": "stdout",
     "output_type": "stream",
     "text": [
      "   Unnamed: 0   k  BC_kmean     BC_em  CCF_kmean    CCF_em\n",
      "0           0   2  0.169786  0.005654   0.034997  0.007899\n",
      "1           1   3  0.022186  0.005410   0.038794  0.039865\n",
      "2           2   4  0.270374  0.024462   0.053499  0.073428\n",
      "3           3   5  0.212902  0.011885   0.071011  0.048087\n",
      "4           4   6  0.192715  0.020876   0.061495  0.037837\n",
      "5           5   7  0.234685  0.028040   0.073128  0.179887\n",
      "6           6   8  0.188381  0.030916   0.084032  0.118918\n",
      "7           7   9  0.159841  0.031960   0.084539  0.146459\n",
      "8           8  10  0.241841  0.039114   0.073347  0.208875\n"
     ]
    }
   ],
   "source": [
    "time_file=\"../Clustering_fit_time_RF.csv\"\n",
    "dfs[10]=pd.read_csv(time_file)\n",
    "print(dfs[10].head(10))"
   ]
  },
  {
   "cell_type": "code",
   "execution_count": 9,
   "metadata": {},
   "outputs": [
    {
     "ename": "ValueError",
     "evalue": "Length mismatch: Expected axis has 6 elements, new values have 5 elements",
     "output_type": "error",
     "traceback": [
      "\u001b[0;31m---------------------------------------------------------------------------\u001b[0m",
      "\u001b[0;31mValueError\u001b[0m                                Traceback (most recent call last)",
      "Cell \u001b[0;32mIn [9], line 2\u001b[0m\n\u001b[1;32m      1\u001b[0m fit_time\u001b[38;5;241m=\u001b[39mdfs[\u001b[38;5;241m10\u001b[39m]\n\u001b[0;32m----> 2\u001b[0m \u001b[43mfit_time\u001b[49m\u001b[38;5;241;43m.\u001b[39;49m\u001b[43mcolumns\u001b[49m\u001b[38;5;241m=\u001b[39m[\u001b[38;5;124m\"\u001b[39m\u001b[38;5;124mk\u001b[39m\u001b[38;5;124m\"\u001b[39m,\u001b[38;5;124m\"\u001b[39m\u001b[38;5;124mBC_kmean\u001b[39m\u001b[38;5;124m\"\u001b[39m,\u001b[38;5;124m\"\u001b[39m\u001b[38;5;124mBC_EM\u001b[39m\u001b[38;5;124m\"\u001b[39m, \u001b[38;5;124m\"\u001b[39m\u001b[38;5;124mCCF_kmean\u001b[39m\u001b[38;5;124m\"\u001b[39m, \u001b[38;5;124m\"\u001b[39m\u001b[38;5;124mCCF_EM\u001b[39m\u001b[38;5;124m\"\u001b[39m]\n\u001b[1;32m      3\u001b[0m bc_kmean_fit_time\u001b[38;5;241m=\u001b[39m fit_time[\u001b[38;5;124m\"\u001b[39m\u001b[38;5;124mBC_kmean\u001b[39m\u001b[38;5;124m\"\u001b[39m]\n\u001b[1;32m      4\u001b[0m bc_em_fit_time\u001b[38;5;241m=\u001b[39m fit_time[\u001b[38;5;124m\"\u001b[39m\u001b[38;5;124mBC_EM\u001b[39m\u001b[38;5;124m\"\u001b[39m]\n",
      "File \u001b[0;32m~/opt/anaconda3/envs/ml/lib/python3.9/site-packages/pandas/core/generic.py:5915\u001b[0m, in \u001b[0;36mNDFrame.__setattr__\u001b[0;34m(self, name, value)\u001b[0m\n\u001b[1;32m   5913\u001b[0m \u001b[38;5;28;01mtry\u001b[39;00m:\n\u001b[1;32m   5914\u001b[0m     \u001b[38;5;28mobject\u001b[39m\u001b[38;5;241m.\u001b[39m\u001b[38;5;21m__getattribute__\u001b[39m(\u001b[38;5;28mself\u001b[39m, name)\n\u001b[0;32m-> 5915\u001b[0m     \u001b[38;5;28;01mreturn\u001b[39;00m \u001b[38;5;28;43mobject\u001b[39;49m\u001b[38;5;241;43m.\u001b[39;49m\u001b[38;5;21;43m__setattr__\u001b[39;49m\u001b[43m(\u001b[49m\u001b[38;5;28;43mself\u001b[39;49m\u001b[43m,\u001b[49m\u001b[43m \u001b[49m\u001b[43mname\u001b[49m\u001b[43m,\u001b[49m\u001b[43m \u001b[49m\u001b[43mvalue\u001b[49m\u001b[43m)\u001b[49m\n\u001b[1;32m   5916\u001b[0m \u001b[38;5;28;01mexcept\u001b[39;00m \u001b[38;5;167;01mAttributeError\u001b[39;00m:\n\u001b[1;32m   5917\u001b[0m     \u001b[38;5;28;01mpass\u001b[39;00m\n",
      "File \u001b[0;32m~/opt/anaconda3/envs/ml/lib/python3.9/site-packages/pandas/_libs/properties.pyx:69\u001b[0m, in \u001b[0;36mpandas._libs.properties.AxisProperty.__set__\u001b[0;34m()\u001b[0m\n",
      "File \u001b[0;32m~/opt/anaconda3/envs/ml/lib/python3.9/site-packages/pandas/core/generic.py:823\u001b[0m, in \u001b[0;36mNDFrame._set_axis\u001b[0;34m(self, axis, labels)\u001b[0m\n\u001b[1;32m    821\u001b[0m \u001b[38;5;28;01mdef\u001b[39;00m \u001b[38;5;21m_set_axis\u001b[39m(\u001b[38;5;28mself\u001b[39m, axis: \u001b[38;5;28mint\u001b[39m, labels: AnyArrayLike \u001b[38;5;241m|\u001b[39m \u001b[38;5;28mlist\u001b[39m) \u001b[38;5;241m-\u001b[39m\u001b[38;5;241m>\u001b[39m \u001b[38;5;28;01mNone\u001b[39;00m:\n\u001b[1;32m    822\u001b[0m     labels \u001b[38;5;241m=\u001b[39m ensure_index(labels)\n\u001b[0;32m--> 823\u001b[0m     \u001b[38;5;28;43mself\u001b[39;49m\u001b[38;5;241;43m.\u001b[39;49m\u001b[43m_mgr\u001b[49m\u001b[38;5;241;43m.\u001b[39;49m\u001b[43mset_axis\u001b[49m\u001b[43m(\u001b[49m\u001b[43maxis\u001b[49m\u001b[43m,\u001b[49m\u001b[43m \u001b[49m\u001b[43mlabels\u001b[49m\u001b[43m)\u001b[49m\n\u001b[1;32m    824\u001b[0m     \u001b[38;5;28mself\u001b[39m\u001b[38;5;241m.\u001b[39m_clear_item_cache()\n",
      "File \u001b[0;32m~/opt/anaconda3/envs/ml/lib/python3.9/site-packages/pandas/core/internals/managers.py:227\u001b[0m, in \u001b[0;36mBaseBlockManager.set_axis\u001b[0;34m(self, axis, new_labels)\u001b[0m\n\u001b[1;32m    225\u001b[0m \u001b[38;5;28;01mdef\u001b[39;00m \u001b[38;5;21mset_axis\u001b[39m(\u001b[38;5;28mself\u001b[39m, axis: \u001b[38;5;28mint\u001b[39m, new_labels: Index) \u001b[38;5;241m-\u001b[39m\u001b[38;5;241m>\u001b[39m \u001b[38;5;28;01mNone\u001b[39;00m:\n\u001b[1;32m    226\u001b[0m     \u001b[38;5;66;03m# Caller is responsible for ensuring we have an Index object.\u001b[39;00m\n\u001b[0;32m--> 227\u001b[0m     \u001b[38;5;28;43mself\u001b[39;49m\u001b[38;5;241;43m.\u001b[39;49m\u001b[43m_validate_set_axis\u001b[49m\u001b[43m(\u001b[49m\u001b[43maxis\u001b[49m\u001b[43m,\u001b[49m\u001b[43m \u001b[49m\u001b[43mnew_labels\u001b[49m\u001b[43m)\u001b[49m\n\u001b[1;32m    228\u001b[0m     \u001b[38;5;28mself\u001b[39m\u001b[38;5;241m.\u001b[39maxes[axis] \u001b[38;5;241m=\u001b[39m new_labels\n",
      "File \u001b[0;32m~/opt/anaconda3/envs/ml/lib/python3.9/site-packages/pandas/core/internals/base.py:70\u001b[0m, in \u001b[0;36mDataManager._validate_set_axis\u001b[0;34m(self, axis, new_labels)\u001b[0m\n\u001b[1;32m     67\u001b[0m     \u001b[38;5;28;01mpass\u001b[39;00m\n\u001b[1;32m     69\u001b[0m \u001b[38;5;28;01melif\u001b[39;00m new_len \u001b[38;5;241m!=\u001b[39m old_len:\n\u001b[0;32m---> 70\u001b[0m     \u001b[38;5;28;01mraise\u001b[39;00m \u001b[38;5;167;01mValueError\u001b[39;00m(\n\u001b[1;32m     71\u001b[0m         \u001b[38;5;124mf\u001b[39m\u001b[38;5;124m\"\u001b[39m\u001b[38;5;124mLength mismatch: Expected axis has \u001b[39m\u001b[38;5;132;01m{\u001b[39;00mold_len\u001b[38;5;132;01m}\u001b[39;00m\u001b[38;5;124m elements, new \u001b[39m\u001b[38;5;124m\"\u001b[39m\n\u001b[1;32m     72\u001b[0m         \u001b[38;5;124mf\u001b[39m\u001b[38;5;124m\"\u001b[39m\u001b[38;5;124mvalues have \u001b[39m\u001b[38;5;132;01m{\u001b[39;00mnew_len\u001b[38;5;132;01m}\u001b[39;00m\u001b[38;5;124m elements\u001b[39m\u001b[38;5;124m\"\u001b[39m\n\u001b[1;32m     73\u001b[0m     )\n",
      "\u001b[0;31mValueError\u001b[0m: Length mismatch: Expected axis has 6 elements, new values have 5 elements"
     ]
    }
   ],
   "source": [
    "fit_time=dfs[10]\n",
    "fit_time.columns=[\"k\",\"BC_kmean\",\"BC_EM\", \"CCF_kmean\", \"CCF_EM\"]\n",
    "bc_kmean_fit_time= fit_time[\"BC_kmean\"]\n",
    "bc_em_fit_time= fit_time[\"BC_EM\"]\n",
    "ccf_kmean_fit_time= fit_time[\"CCF_kmean\"]\n",
    "ccf_em_fit_time= fit_time[\"CCF_EM\"]\n",
    "cluster_number= fit_time[\"k\"]"
   ]
  },
  {
   "cell_type": "code",
   "execution_count": null,
   "metadata": {},
   "outputs": [],
   "source": [
    "plt.plot(cluster_number,bc_kmean_fit_time, color=\"green\", label= \"k-means\")\n",
    "plt.plot(cluster_number,bc_em_fit_time, color=\"red\", label=\"EM\")\n",
    "\n",
    "plt.ylabel(\"Fit Time \")\n",
    "plt.xlabel(\"Number of Clusters\")\n",
    "plt.legend()\n",
    "plt.title('Breast Cancer RF - Clustering Fit Time')\n",
    "plt.savefig('Breast Cancer RF - Clustering Fit Time')\n",
    "\n",
    "plt.show()"
   ]
  },
  {
   "cell_type": "code",
   "execution_count": null,
   "metadata": {},
   "outputs": [],
   "source": [
    "plt.plot(cluster_number,ccf_kmean_fit_time, color=\"green\", label=\"K-means\")\n",
    "plt.plot(cluster_number,ccf_em_fit_time, color=\"red\", label= \"EM\")\n",
    "\n",
    "plt.ylabel(\"Fit Time \")\n",
    "plt.xlabel(\"Number of Clusters\")\n",
    "plt.legend()\n",
    "plt.title('Credit Card Fraud RF- Clustering Fit Time')\n",
    "plt.savefig('Credit Card Fraud RF - Clustering Fit Time')\n",
    "\n",
    "plt.show()"
   ]
  },
  {
   "cell_type": "markdown",
   "metadata": {},
   "source": [
    "# Choosing K\n",
    "## K-Means SSE: (Breast Cancer & Faulty Plates)"
   ]
  },
  {
   "cell_type": "code",
   "execution_count": null,
   "metadata": {},
   "outputs": [],
   "source": [
    "km_SSE.columns = ['clusters','ccf_sse','bc_sse']\n",
    "x = km_SSE['clusters']\n",
    "bc_y = km_SSE['bc_sse']\n",
    "ccf_y = km_SSE['ccf_sse']\n",
    "km_SSE.head()"
   ]
  },
  {
   "cell_type": "code",
   "execution_count": null,
   "metadata": {},
   "outputs": [],
   "source": [
    "plt.plot(x,bc_y, color=\"green\")\n",
    "plt.ylabel(\"SSE \")\n",
    "plt.xlabel(\"Number of Clusters\")\n",
    "plt.title('Breast Cancer RF - K-Means SSE')\n",
    "plt.savefig('Breast Cancer RF - K-Means SSE')\n",
    "plt.show()"
   ]
  },
  {
   "cell_type": "code",
   "execution_count": null,
   "metadata": {},
   "outputs": [],
   "source": [
    "plt.plot(x,ccf_y, color=\"green\")\n",
    "plt.ylabel(\"SSE \")\n",
    "plt.xlabel(\"Number of Clusters\")\n",
    "plt.title('Credit Card Fraud RF - K-Means SSE')\n",
    "plt.savefig('Credit Card Fraud RF - K-Means SSE')\n",
    "plt.show()"
   ]
  },
  {
   "cell_type": "markdown",
   "metadata": {},
   "source": [
    "## EM Log-Likelihood: (Breast Cancer & Faulty Plates)"
   ]
  },
  {
   "cell_type": "code",
   "execution_count": null,
   "metadata": {},
   "outputs": [],
   "source": [
    "gmm_log.columns = ['clusters',\"ccf_log\",'bc_log']\n",
    "x = gmm_log['clusters']\n",
    "bc_y = gmm_log['bc_log']\n",
    "ccf_y = gmm_log['ccf_log']\n",
    "gmm_log.head()"
   ]
  },
  {
   "cell_type": "code",
   "execution_count": null,
   "metadata": {},
   "outputs": [],
   "source": [
    "plt.plot(x,bc_y, color=\"red\")\n",
    "plt.ylabel(\"Log-Likelihood\")\n",
    "plt.xlabel(\"Number of Clusters\")\n",
    "plt.title('Breast Cancer RF - EM Log-Likelihood')\n",
    "plt.savefig('Breast Cancer RF - EM Log-Likelihood')\n",
    "plt.show()"
   ]
  },
  {
   "cell_type": "code",
   "execution_count": null,
   "metadata": {},
   "outputs": [],
   "source": [
    "plt.plot(x,ccf_y, color=\"red\")\n",
    "plt.ylabel(\"Log-Likelihood\")\n",
    "plt.xlabel(\"Number of Clusters\")\n",
    "plt.title('Credit Card Fraud RF - EM Log-Likelihood')\n",
    "plt.savefig('Credit Card Fraud RF - EM Log-Likelihood')\n",
    "plt.show()"
   ]
  },
  {
   "cell_type": "markdown",
   "metadata": {},
   "source": [
    "# Breast Cancer Dataset"
   ]
  },
  {
   "cell_type": "markdown",
   "metadata": {},
   "source": [
    "## Silhouette Score: K-Means and EM"
   ]
  },
  {
   "cell_type": "code",
   "execution_count": null,
   "metadata": {},
   "outputs": [],
   "source": [
    "bc_ss['clusters'] = bc_ss.index\n",
    "bc_ss.columns = ['gmm_ss','km_ss','clusters']\n",
    "x = bc_ss['clusters']\n",
    "gmm_y = bc_ss['gmm_ss']\n",
    "km_y = bc_ss['km_ss']\n",
    "bc_ss.head()"
   ]
  },
  {
   "cell_type": "code",
   "execution_count": null,
   "metadata": {},
   "outputs": [],
   "source": [
    "plt.plot(x,km_y, label=\"K-means\", color=\"green\")\n",
    "plt.plot(x,gmm_y, label=\"EM\", color=\"red\")\n",
    "plt.ylabel(\"Silhouette Score\")\n",
    "plt.xlabel(\"Number of Clusters\")\n",
    "plt.title('Breast Cancer RF - Silhouette Score')\n",
    "plt.legend()\n",
    "plt.savefig('Breast Cancer RF - Silhouette Score')\n",
    "plt.show()"
   ]
  },
  {
   "cell_type": "markdown",
   "metadata": {},
   "source": [
    "## Cluster Evaluation \n",
    "## Accuracy Score: K-Means and EM"
   ]
  },
  {
   "cell_type": "code",
   "execution_count": null,
   "metadata": {},
   "outputs": [],
   "source": [
    "bc_ari['clusters'] = bc_ari.index\n",
    "bc_ari.columns = ['gmm_ari','km_ari','clusters']\n",
    "x = bc_ari['clusters']\n",
    "gmm_y = bc_ari['gmm_ari']\n",
    "km_y = bc_ari['km_ari']\n",
    "bc_ari.head()"
   ]
  },
  {
   "cell_type": "code",
   "execution_count": null,
   "metadata": {},
   "outputs": [],
   "source": []
  },
  {
   "cell_type": "code",
   "execution_count": null,
   "metadata": {},
   "outputs": [],
   "source": [
    "plt.plot(x,km_y, label = \"K-Means\", color=\"green\")\n",
    "plt.plot(x,gmm_y, label = \"EM\", color=\"red\")\n",
    "plt.ylabel(\"Adjusted Rand Index\")\n",
    "plt.xlabel(\"Number of Clusters\")\n",
    "plt.title('Breast Cancer RF - Adjusted Rand Index')\n",
    "plt.legend()\n",
    "plt.savefig('Breast Cancer RF - Adjusted Rand Index')\n",
    "plt.show()"
   ]
  },
  {
   "cell_type": "markdown",
   "metadata": {},
   "source": [
    "## Adjusted MI: K-Means and EM"
   ]
  },
  {
   "cell_type": "code",
   "execution_count": null,
   "metadata": {},
   "outputs": [],
   "source": [
    "bc_NMI['clusters'] = bc_NMI.index\n",
    "bc_NMI.columns = ['gmm_NMI','km_NMI','clusters']\n",
    "x = bc_NMI['clusters']\n",
    "gmm_y = bc_NMI['gmm_NMI']\n",
    "km_y = bc_NMI['km_NMI']"
   ]
  },
  {
   "cell_type": "code",
   "execution_count": null,
   "metadata": {},
   "outputs": [],
   "source": [
    "plt.plot(x,km_y, label=\"K-Means\", color=\"green\")\n",
    "plt.plot(x,gmm_y, label=\"EM\", color=\"red\")\n",
    "plt.ylabel(\"Normalized Mutual Information\")\n",
    "plt.xlabel(\"Number of Clusters\")\n",
    "plt.title('Breast Cancer RF - Normalized Mutual Information')\n",
    "plt.legend()\n",
    "plt.savefig('Breast Cancer RF -  Normalized Mutual Information')\n",
    "plt.show()"
   ]
  },
  {
   "cell_type": "markdown",
   "metadata": {},
   "source": [
    "# Faulty Plates Dataset"
   ]
  },
  {
   "cell_type": "markdown",
   "metadata": {},
   "source": [
    "## Silhouette Score: K-Means and EM"
   ]
  },
  {
   "cell_type": "code",
   "execution_count": null,
   "metadata": {},
   "outputs": [],
   "source": [
    "ccf_ss['clusters'] = bc_ss.index\n",
    "ccf_ss.columns = ['gmm_ss','km_ss','clusters']\n",
    "x = ccf_ss['clusters']\n",
    "gmm_y = ccf_ss['gmm_ss']\n",
    "km_y = ccf_ss['km_ss']\n",
    "ccf_ss.head()"
   ]
  },
  {
   "cell_type": "code",
   "execution_count": null,
   "metadata": {},
   "outputs": [],
   "source": [
    "plt.plot(x,km_y, label=\"K-means\", color=\"green\")\n",
    "plt.plot(x,gmm_y, label=\"EM\", color=\"red\")\n",
    "plt.ylabel(\"Silhouette Score\")\n",
    "plt.xlabel(\"Number of Clusters\")\n",
    "plt.title('Credit Card Fraud RF - Silhouette Score')\n",
    "plt.legend()\n",
    "plt.savefig('Credit Card Fraud RF - Silhouette Score')\n",
    "plt.show()"
   ]
  },
  {
   "cell_type": "markdown",
   "metadata": {},
   "source": [
    "## Cluster Evaluation \n",
    "## Accuracy Score: K-Means and EM"
   ]
  },
  {
   "cell_type": "code",
   "execution_count": null,
   "metadata": {},
   "outputs": [],
   "source": [
    "ccf_ari['clusters'] = ccf_ari.index\n",
    "ccf_ari.columns = ['gmm_ari','km_ari','clusters']\n",
    "x = ccf_ari['clusters']\n",
    "gmm_y = ccf_ari['gmm_ari']\n",
    "km_y = ccf_ari['km_ari']\n",
    "ccf_ari.head()"
   ]
  },
  {
   "cell_type": "code",
   "execution_count": null,
   "metadata": {},
   "outputs": [],
   "source": [
    "plt.plot(x,km_y, label = \"K-Means\", color=\"green\")\n",
    "plt.plot(x,gmm_y, label = \"EM\", color=\"red\")\n",
    "plt.ylabel(\"Adjusted Rand Index\")\n",
    "plt.xlabel(\"Number of Clusters\")\n",
    "plt.title('Credit Card Fraud RF -Adjusted Rand Index')\n",
    "plt.legend()\n",
    "plt.savefig('Credit Card Fraud RF - Adjusted Rand Index')\n",
    "plt.show()"
   ]
  },
  {
   "cell_type": "markdown",
   "metadata": {},
   "source": [
    "## Adjusted MI: K-Means and EM"
   ]
  },
  {
   "cell_type": "code",
   "execution_count": null,
   "metadata": {},
   "outputs": [],
   "source": [
    "ccf_NMI['clusters'] = ccf_NMI.index\n",
    "ccf_NMI.columns = ['gmm_NMI','km_NMI','clusters']\n",
    "x = ccf_NMI['clusters']\n",
    "gmm_y = ccf_NMI['gmm_NMI']\n",
    "km_y = ccf_NMI['km_NMI']"
   ]
  },
  {
   "cell_type": "code",
   "execution_count": null,
   "metadata": {},
   "outputs": [],
   "source": [
    "plt.plot(x,km_y, label=\"K-Means\", color=\"green\")\n",
    "plt.plot(x,gmm_y, label=\"EM\", color=\"red\")\n",
    "plt.ylabel(\"Normalized Mutual Information\")\n",
    "plt.xlabel(\"Number of Clusters\")\n",
    "plt.title('Credit Card Fraud RF - Normalized Mutual Information')\n",
    "plt.legend()\n",
    "plt.savefig('Credit Card Fraud RF - Normalized Mutual Information')\n",
    "plt.show()"
   ]
  },
  {
   "cell_type": "markdown",
   "metadata": {},
   "source": [
    "## 2D Visualizaion"
   ]
  },
  {
   "cell_type": "code",
   "execution_count": null,
   "metadata": {},
   "outputs": [],
   "source": [
    "f_2d.columns = ['data','x','y','target']\n",
    "f_2d.head()"
   ]
  },
  {
   "cell_type": "markdown",
   "metadata": {},
   "source": [
    "## RF Analyses"
   ]
  },
  {
   "cell_type": "code",
   "execution_count": 10,
   "metadata": {},
   "outputs": [],
   "source": [
    "files1 = glob.glob('../Output/RF/RF/*scree.csv')\n",
    "files1.sort()"
   ]
  },
  {
   "cell_type": "code",
   "execution_count": 11,
   "metadata": {},
   "outputs": [
    {
     "data": {
      "text/plain": [
       "{0: '../Output/RF/RF/bc scree.csv', 1: '../Output/RF/RF/ccf scree.csv'}"
      ]
     },
     "execution_count": 11,
     "metadata": {},
     "output_type": "execute_result"
    }
   ],
   "source": [
    "files1 = dict(enumerate(files1))\n",
    "files1"
   ]
  },
  {
   "cell_type": "code",
   "execution_count": 17,
   "metadata": {},
   "outputs": [],
   "source": [
    "dfs1 = defaultdict(int)\n",
    "for indx, f in files1.items():\n",
    "    dfs1[indx] = pd.read_csv(f,names = [\"Features\",\"Gini Importance\"])"
   ]
  },
  {
   "cell_type": "code",
   "execution_count": 18,
   "metadata": {},
   "outputs": [],
   "source": [
    "bc_scree = dfs1[0][1:17]\n",
    "ccf_scree = dfs1[1][1:17]"
   ]
  },
  {
   "cell_type": "code",
   "execution_count": 19,
   "metadata": {},
   "outputs": [
    {
     "data": {
      "image/png": "[encoded data removed]",
      "text/plain": [
       "<Figure size 640x480 with 1 Axes>"
      ]
     },
     "metadata": {},
     "output_type": "display_data"
    }
   ],
   "source": [
    "height = bc_scree[\"Gini Importance\"]\n",
    "bars = bc_scree[\"Features\"]\n",
    "y_pos = np.arange(len(bars))\n",
    "plt.ylabel(\"Gini Importance\")\n",
    "plt.xlabel(\"Features\")\n",
    "plt.title('Breast Cancer RF Feature Importance')\n",
    "plt.bar(y_pos,height, color=\"green\")\n",
    "plt.xticks(y_pos, bars)\n",
    "plt.savefig('Breast Cancer RF Feature Importance')\n",
    "\n",
    "\n",
    "plt.show()"
   ]
  },
  {
   "cell_type": "code",
   "execution_count": 20,
   "metadata": {},
   "outputs": [
    {
     "data": {
      "image/png": "[encoded data removed]",
      "text/plain": [
       "<Figure size 640x480 with 1 Axes>"
      ]
     },
     "metadata": {},
     "output_type": "display_data"
    }
   ],
   "source": [
    "height = ccf_scree[\"Gini Importance\"]\n",
    "bars = ccf_scree[\"Features\"]\n",
    "y_pos = np.arange(len(bars))\n",
    "plt.ylabel(\"Gini Importance\")\n",
    "plt.xlabel(\"Features\")\n",
    "plt.title('Credit Card Fraud RF Feature Importance')\n",
    "plt.bar(y_pos,height, color=\"green\")\n",
    "plt.xticks(y_pos, bars)\n",
    "plt.savefig('Credit Card Fraud RF Feature Importance')\n",
    "plt.show()"
   ]
  },
  {
   "cell_type": "code",
   "execution_count": null,
   "metadata": {},
   "outputs": [],
   "source": []
  },
  {
   "cell_type": "code",
   "execution_count": null,
   "metadata": {},
   "outputs": [],
   "source": []
  }
 ],
 "metadata": {
  "kernelspec": {
   "display_name": "Python 3 (ipykernel)",
   "language": "python",
   "name": "python3"
  },
  "language_info": {
   "codemirror_mode": {
    "name": "ipython",
    "version": 3
   },
   "file_extension": ".py",
   "mimetype": "text/x-python",
   "name": "python",
   "nbconvert_exporter": "python",
   "pygments_lexer": "ipython3",
   "version": "3.9.13"
  }
 },
 "nbformat": 4,
 "nbformat_minor": 2
}
